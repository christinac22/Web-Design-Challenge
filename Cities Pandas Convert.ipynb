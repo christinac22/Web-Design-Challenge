{
 "cells": [
  {
   "cell_type": "code",
   "execution_count": 1,
   "id": "7945575a",
   "metadata": {},
   "outputs": [],
   "source": [
    "# Python program to convert\n",
    "# CSV to HTML Table\n",
    " \n",
    "import pandas as pd"
   ]
  },
  {
   "cell_type": "code",
   "execution_count": 6,
   "id": "72bdb8ee",
   "metadata": {},
   "outputs": [],
   "source": [
    "# to read csv file named \"samplee\"\n",
    "a = pd.read_csv(\"Resources/cities.csv\")"
   ]
  },
  {
   "cell_type": "code",
   "execution_count": 7,
   "id": "9eb9cf83",
   "metadata": {},
   "outputs": [],
   "source": [
    "# to save as html file\n",
    "# named as \"Table\"\n",
    "a.to_html(\"Table.htm\")"
   ]
  },
  {
   "cell_type": "code",
   "execution_count": 8,
   "id": "63e7fe9a",
   "metadata": {},
   "outputs": [],
   "source": [
    " # assign it to a\n",
    "# variable (string)\n",
    "cities_html_file = a.to_html()"
   ]
  },
  {
   "cell_type": "code",
   "execution_count": null,
   "id": "e2fdd7f7",
   "metadata": {},
   "outputs": [],
   "source": []
  }
 ],
 "metadata": {
  "kernelspec": {
   "display_name": "Python 3 (ipykernel)",
   "language": "python",
   "name": "python3"
  },
  "language_info": {
   "codemirror_mode": {
    "name": "ipython",
    "version": 3
   },
   "file_extension": ".py",
   "mimetype": "text/x-python",
   "name": "python",
   "nbconvert_exporter": "python",
   "pygments_lexer": "ipython3",
   "version": "3.9.7"
  }
 },
 "nbformat": 4,
 "nbformat_minor": 5
}
